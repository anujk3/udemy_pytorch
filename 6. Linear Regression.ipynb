{
 "cells": [
  {
   "cell_type": "markdown",
   "metadata": {},
   "source": [
    "## 6. Linear Regression with PyTorch"
   ]
  },
  {
   "cell_type": "markdown",
   "metadata": {},
   "source": [
    "### 1. About Linear Regression"
   ]
  },
  {
   "cell_type": "code",
   "execution_count": 25,
   "metadata": {},
   "outputs": [],
   "source": [
    "import numpy as np\n",
    "import matplotlib.pyplot as plt"
   ]
  },
  {
   "cell_type": "code",
   "execution_count": 2,
   "metadata": {},
   "outputs": [
    {
     "data": {
      "image/png": "[encoded data removed]",
      "text/plain": [
       "<matplotlib.figure.Figure at 0x7f4ee878d978>"
      ]
     },
     "metadata": {},
     "output_type": "display_data"
    }
   ],
   "source": [
    "np.random.seed(1)\n",
    "n = 50\n",
    "x = np.random.randn(n)\n",
    "y = x * np.random.randn(n)\n",
    "colors = np.random.rand(n)\n",
    "\n",
    "plt.plot(np.unique(x), np.poly1d(np.polyfit(x, y, 1))(np.unique(x)))\n",
    "\n",
    "plt.scatter(x, y, c=colors, alpha=0.5)\n",
    "plt.show()"
   ]
  },
  {
   "cell_type": "markdown",
   "metadata": {},
   "source": [
    "### 2. Building Linear Regression model with PyTorch"
   ]
  },
  {
   "cell_type": "markdown",
   "metadata": {},
   "source": [
    "** Toy Dataset **"
   ]
  },
  {
   "cell_type": "code",
   "execution_count": 3,
   "metadata": {},
   "outputs": [],
   "source": [
    "x_values = [i for i in range(11)]"
   ]
  },
  {
   "cell_type": "code",
   "execution_count": 4,
   "metadata": {},
   "outputs": [
    {
     "data": {
      "text/plain": [
       "[0, 1, 2, 3, 4, 5, 6, 7, 8, 9, 10]"
      ]
     },
     "execution_count": 4,
     "metadata": {},
     "output_type": "execute_result"
    }
   ],
   "source": [
    "x_values"
   ]
  },
  {
   "cell_type": "code",
   "execution_count": 5,
   "metadata": {},
   "outputs": [
    {
     "data": {
      "text/plain": [
       "(11,)"
      ]
     },
     "execution_count": 5,
     "metadata": {},
     "output_type": "execute_result"
    }
   ],
   "source": [
    "# Convert to numpy\n",
    "x_train = np.array(x_values, dtype=np.float32)\n",
    "x_train.shape"
   ]
  },
  {
   "cell_type": "code",
   "execution_count": 6,
   "metadata": {},
   "outputs": [
    {
     "data": {
      "text/plain": [
       "(11, 1)"
      ]
     },
     "execution_count": 6,
     "metadata": {},
     "output_type": "execute_result"
    }
   ],
   "source": [
    "## Important : 2D shape required\n",
    "x_train = x_train.reshape(-1, 1)\n",
    "x_train.shape"
   ]
  },
  {
   "cell_type": "code",
   "execution_count": 7,
   "metadata": {},
   "outputs": [],
   "source": [
    "y_values = [2*i + 1 for i in x_values]"
   ]
  },
  {
   "cell_type": "code",
   "execution_count": 8,
   "metadata": {},
   "outputs": [],
   "source": [
    "y_values = np.array(y_values, dtype=np.float32)"
   ]
  },
  {
   "cell_type": "code",
   "execution_count": 9,
   "metadata": {},
   "outputs": [],
   "source": [
    "y_train = y_values.reshape(-1, 1)"
   ]
  },
  {
   "cell_type": "code",
   "execution_count": 10,
   "metadata": {},
   "outputs": [
    {
     "data": {
      "text/plain": [
       "(11, 1)"
      ]
     },
     "execution_count": 10,
     "metadata": {},
     "output_type": "execute_result"
    }
   ],
   "source": [
    "y_train.shape"
   ]
  },
  {
   "cell_type": "markdown",
   "metadata": {},
   "source": [
    "### Building Model"
   ]
  },
  {
   "cell_type": "code",
   "execution_count": 11,
   "metadata": {},
   "outputs": [],
   "source": [
    "import torch\n",
    "import torch.nn as nn\n",
    "from torch.autograd import Variable"
   ]
  },
  {
   "cell_type": "code",
   "execution_count": 12,
   "metadata": {},
   "outputs": [],
   "source": [
    "class LinearRegressionModel(nn.Module):\n",
    "    def __init__(self, input_size, output_size):\n",
    "        super(LinearRegressionModel, self).__init__()\n",
    "        self.linear = nn.Linear(input_size, output_size)\n",
    "    \n",
    "    def forward(self, x):\n",
    "        out = self.linear(x)\n",
    "        return out"
   ]
  },
  {
   "cell_type": "markdown",
   "metadata": {},
   "source": [
    "** Instantiate model class **"
   ]
  },
  {
   "cell_type": "code",
   "execution_count": 13,
   "metadata": {},
   "outputs": [],
   "source": [
    "input_dim = 1\n",
    "output_dim = 1\n",
    "\n",
    "model = LinearRegressionModel(input_dim, output_dim)"
   ]
  },
  {
   "cell_type": "code",
   "execution_count": 14,
   "metadata": {},
   "outputs": [
    {
     "data": {
      "text/plain": [
       "[Parameter containing:\n",
       " 1.00000e-02 *\n",
       "  -6.6672\n",
       " [torch.FloatTensor of size 1x1], Parameter containing:\n",
       " -0.6919\n",
       " [torch.FloatTensor of size 1]]"
      ]
     },
     "execution_count": 14,
     "metadata": {},
     "output_type": "execute_result"
    }
   ],
   "source": [
    "list(model.parameters())"
   ]
  },
  {
   "cell_type": "code",
   "execution_count": 15,
   "metadata": {},
   "outputs": [],
   "source": [
    "criterion = nn.MSELoss()"
   ]
  },
  {
   "cell_type": "code",
   "execution_count": 16,
   "metadata": {},
   "outputs": [],
   "source": [
    "learning_rate = 0.01\n",
    "optimizer = torch.optim.SGD(model.parameters(), lr=learning_rate)"
   ]
  },
  {
   "cell_type": "markdown",
   "metadata": {},
   "source": [
    "** Train Model **"
   ]
  },
  {
   "cell_type": "code",
   "execution_count": 17,
   "metadata": {},
   "outputs": [],
   "source": [
    "epochs = 100"
   ]
  },
  {
   "cell_type": "code",
   "execution_count": 18,
   "metadata": {},
   "outputs": [
    {
     "name": "stdout",
     "output_type": "stream",
     "text": [
      "epoch 1, loss 187.3180694580078\n",
      "epoch 2, loss 15.762677192687988\n",
      "epoch 3, loss 1.7640420198440552\n",
      "epoch 4, loss 0.616875410079956\n",
      "epoch 5, loss 0.518022894859314\n",
      "epoch 6, loss 0.504737138748169\n",
      "epoch 7, loss 0.4984892010688782\n",
      "epoch 8, loss 0.49287253618240356\n",
      "epoch 9, loss 0.4873647391796112\n",
      "epoch 10, loss 0.4819222390651703\n",
      "epoch 11, loss 0.4765404760837555\n",
      "epoch 12, loss 0.4712190330028534\n",
      "epoch 13, loss 0.46595698595046997\n",
      "epoch 14, loss 0.46075335144996643\n",
      "epoch 15, loss 0.4556084871292114\n",
      "epoch 16, loss 0.45052096247673035\n",
      "epoch 17, loss 0.44549015164375305\n",
      "epoch 18, loss 0.44051530957221985\n",
      "epoch 19, loss 0.4355961084365845\n",
      "epoch 20, loss 0.4307316839694977\n",
      "epoch 21, loss 0.4259217083454132\n",
      "epoch 22, loss 0.4211656451225281\n",
      "epoch 23, loss 0.41646289825439453\n",
      "epoch 24, loss 0.41181179881095886\n",
      "epoch 25, loss 0.4072131812572479\n",
      "epoch 26, loss 0.40266627073287964\n",
      "epoch 27, loss 0.3981693983078003\n",
      "epoch 28, loss 0.39372339844703674\n",
      "epoch 29, loss 0.38932639360427856\n",
      "epoch 30, loss 0.384979248046875\n",
      "epoch 31, loss 0.3806799054145813\n",
      "epoch 32, loss 0.37642890214920044\n",
      "epoch 33, loss 0.37222519516944885\n",
      "epoch 34, loss 0.368069052696228\n",
      "epoch 35, loss 0.3639587163925171\n",
      "epoch 36, loss 0.35989439487457275\n",
      "epoch 37, loss 0.3558756411075592\n",
      "epoch 38, loss 0.3519018590450287\n",
      "epoch 39, loss 0.34797194600105286\n",
      "epoch 40, loss 0.34408652782440186\n",
      "epoch 41, loss 0.3402438461780548\n",
      "epoch 42, loss 0.3364444077014923\n",
      "epoch 43, loss 0.3326873481273651\n",
      "epoch 44, loss 0.32897260785102844\n",
      "epoch 45, loss 0.3252984881401062\n",
      "epoch 46, loss 0.3216659426689148\n",
      "epoch 47, loss 0.3180742561817169\n",
      "epoch 48, loss 0.3145223557949066\n",
      "epoch 49, loss 0.31101009249687195\n",
      "epoch 50, loss 0.3075370490550995\n",
      "epoch 51, loss 0.3041026294231415\n",
      "epoch 52, loss 0.3007071614265442\n",
      "epoch 53, loss 0.29734909534454346\n",
      "epoch 54, loss 0.29402872920036316\n",
      "epoch 55, loss 0.2907450795173645\n",
      "epoch 56, loss 0.2874983251094818\n",
      "epoch 57, loss 0.2842881977558136\n",
      "epoch 58, loss 0.2811135947704315\n",
      "epoch 59, loss 0.27797412872314453\n",
      "epoch 60, loss 0.2748703956604004\n",
      "epoch 61, loss 0.2718009650707245\n",
      "epoch 62, loss 0.26876571774482727\n",
      "epoch 63, loss 0.26576411724090576\n",
      "epoch 64, loss 0.26279643177986145\n",
      "epoch 65, loss 0.25986215472221375\n",
      "epoch 66, loss 0.2569601237773895\n",
      "epoch 67, loss 0.25409090518951416\n",
      "epoch 68, loss 0.25125351548194885\n",
      "epoch 69, loss 0.24844740331172943\n",
      "epoch 70, loss 0.2456730753183365\n",
      "epoch 71, loss 0.24292974174022675\n",
      "epoch 72, loss 0.24021705985069275\n",
      "epoch 73, loss 0.23753443360328674\n",
      "epoch 74, loss 0.23488210141658783\n",
      "epoch 75, loss 0.2322591245174408\n",
      "epoch 76, loss 0.2296656221151352\n",
      "epoch 77, loss 0.22710071504116058\n",
      "epoch 78, loss 0.22456485033035278\n",
      "epoch 79, loss 0.22205735743045807\n",
      "epoch 80, loss 0.2195776104927063\n",
      "epoch 81, loss 0.2171257883310318\n",
      "epoch 82, loss 0.21470093727111816\n",
      "epoch 83, loss 0.2123035043478012\n",
      "epoch 84, loss 0.20993265509605408\n",
      "epoch 85, loss 0.20758838951587677\n",
      "epoch 86, loss 0.2052702009677887\n",
      "epoch 87, loss 0.20297791063785553\n",
      "epoch 88, loss 0.2007114291191101\n",
      "epoch 89, loss 0.19847026467323303\n",
      "epoch 90, loss 0.19625382125377655\n",
      "epoch 91, loss 0.19406241178512573\n",
      "epoch 92, loss 0.1918952614068985\n",
      "epoch 93, loss 0.1897522509098053\n",
      "epoch 94, loss 0.18763355910778046\n",
      "epoch 95, loss 0.18553809821605682\n",
      "epoch 96, loss 0.18346643447875977\n",
      "epoch 97, loss 0.1814175695180893\n",
      "epoch 98, loss 0.17939181625843048\n",
      "epoch 99, loss 0.17738865315914154\n",
      "epoch 100, loss 0.17540781199932098\n"
     ]
    }
   ],
   "source": [
    "for epoch in range(epochs):\n",
    "    epoch += 1\n",
    "    # Convert numpy array to torch variables for gradient collection\n",
    "    inputs = Variable(torch.from_numpy(x_train))\n",
    "    labels = Variable(torch.from_numpy(y_train))\n",
    "    \n",
    "    # Clear gradients w.r.t parameters (collected in previous epoch)\n",
    "    optimizer.zero_grad()\n",
    "    \n",
    "    # Forward to get output, calling the model directly runs the forward function\n",
    "    outputs = model(inputs)\n",
    "    \n",
    "    # Calculate loss\n",
    "    loss = criterion(outputs, labels)\n",
    "    \n",
    "    # Getting Gradients w.r.t. parameters\n",
    "    loss.backward()\n",
    "    \n",
    "    # Updating Parameters\n",
    "    optimizer.step()\n",
    "    \n",
    "    print('epoch {}, loss {}'.format(epoch, loss.data[0]))"
   ]
  },
  {
   "cell_type": "markdown",
   "metadata": {},
   "source": [
    "** Compare Data **"
   ]
  },
  {
   "cell_type": "code",
   "execution_count": 19,
   "metadata": {},
   "outputs": [],
   "source": [
    "predicted = model(Variable(torch.from_numpy(x_train))).data.numpy()"
   ]
  },
  {
   "cell_type": "code",
   "execution_count": 20,
   "metadata": {},
   "outputs": [
    {
     "data": {
      "text/plain": [
       "array([[ 0.22091569],\n",
       "       [ 2.3331108 ],\n",
       "       [ 4.445306  ],\n",
       "       [ 6.557501  ],\n",
       "       [ 8.669696  ],\n",
       "       [10.781891  ],\n",
       "       [12.894086  ],\n",
       "       [15.006281  ],\n",
       "       [17.118475  ],\n",
       "       [19.230669  ],\n",
       "       [21.342865  ]], dtype=float32)"
      ]
     },
     "execution_count": 20,
     "metadata": {},
     "output_type": "execute_result"
    }
   ],
   "source": [
    "predicted"
   ]
  },
  {
   "cell_type": "code",
   "execution_count": 21,
   "metadata": {},
   "outputs": [
    {
     "data": {
      "text/plain": [
       "array([[ 1.],\n",
       "       [ 3.],\n",
       "       [ 5.],\n",
       "       [ 7.],\n",
       "       [ 9.],\n",
       "       [11.],\n",
       "       [13.],\n",
       "       [15.],\n",
       "       [17.],\n",
       "       [19.],\n",
       "       [21.]], dtype=float32)"
      ]
     },
     "execution_count": 21,
     "metadata": {},
     "output_type": "execute_result"
    }
   ],
   "source": [
    "y_train"
   ]
  },
  {
   "cell_type": "markdown",
   "metadata": {},
   "source": [
    "** Plot Graph **"
   ]
  },
  {
   "cell_type": "code",
   "execution_count": 22,
   "metadata": {},
   "outputs": [
    {
     "data": {
      "image/png": "[encoded data removed]",
      "text/plain": [
       "<matplotlib.figure.Figure at 0x7f4f08e46d30>"
      ]
     },
     "metadata": {},
     "output_type": "display_data"
    }
   ],
   "source": [
    "# clear figure\n",
    "plt.clf()\n",
    "\n",
    "# plot true data\n",
    "plt.plot(x_train, y_train, 'go', label = 'True Data', alpha = 0.5)\n",
    "\n",
    "# plot predictions\n",
    "plt.plot(x_train, predicted, '--', label = 'Predictions', alpha = 0.5)\n",
    "\n",
    "# legend and plot\n",
    "plt.legend(loc='best')\n",
    "plt.show()"
   ]
  },
  {
   "cell_type": "markdown",
   "metadata": {},
   "source": [
    "** Save Model **"
   ]
  },
  {
   "cell_type": "code",
   "execution_count": 23,
   "metadata": {},
   "outputs": [],
   "source": [
    "save_model = False\n",
    "if save_model is True:\n",
    "    torch.save(model.state_dict(), 'awesome_model.pkl')"
   ]
  },
  {
   "cell_type": "markdown",
   "metadata": {},
   "source": [
    "** Load Model **"
   ]
  },
  {
   "cell_type": "code",
   "execution_count": 24,
   "metadata": {},
   "outputs": [],
   "source": [
    "load_model = False\n",
    "if load_model is True:\n",
    "    model.load_state_dict(torch.load('awesome_model.pkl'))"
   ]
  },
  {
   "cell_type": "markdown",
   "metadata": {},
   "source": [
    "---"
   ]
  },
  {
   "cell_type": "markdown",
   "metadata": {},
   "source": [
    "## CPU to GPU"
   ]
  },
  {
   "cell_type": "markdown",
   "metadata": {},
   "source": [
    "Things required on GPU:\n",
    "    * models\n",
    "    * variables"
   ]
  },
  {
   "cell_type": "code",
   "execution_count": 26,
   "metadata": {},
   "outputs": [
    {
     "name": "stdout",
     "output_type": "stream",
     "text": [
      "epoch 1, loss 100.61687469482422\n",
      "epoch 2, loss 8.398553848266602\n",
      "epoch 3, loss 0.874459445476532\n",
      "epoch 4, loss 0.2586264908313751\n",
      "epoch 5, loss 0.20630373060703278\n",
      "epoch 6, loss 0.1999676376581192\n",
      "epoch 7, loss 0.19740575551986694\n",
      "epoch 8, loss 0.19517451524734497\n",
      "epoch 9, loss 0.1929929256439209\n",
      "epoch 10, loss 0.190837562084198\n",
      "epoch 11, loss 0.18870648741722107\n",
      "epoch 12, loss 0.18659938871860504\n",
      "epoch 13, loss 0.184515580534935\n",
      "epoch 14, loss 0.18245510756969452\n",
      "epoch 15, loss 0.18041764199733734\n",
      "epoch 16, loss 0.17840300500392914\n",
      "epoch 17, loss 0.1764107048511505\n",
      "epoch 18, loss 0.17444083094596863\n",
      "epoch 19, loss 0.1724928617477417\n",
      "epoch 20, loss 0.1705666035413742\n",
      "epoch 21, loss 0.16866202652454376\n",
      "epoch 22, loss 0.1667785346508026\n",
      "epoch 23, loss 0.16491617262363434\n",
      "epoch 24, loss 0.1630745679140091\n",
      "epoch 25, loss 0.16125351190567017\n",
      "epoch 26, loss 0.15945281088352203\n",
      "epoch 27, loss 0.1576722115278244\n",
      "epoch 28, loss 0.15591154992580414\n",
      "epoch 29, loss 0.15417049825191498\n",
      "epoch 30, loss 0.15244895219802856\n",
      "epoch 31, loss 0.15074656903743744\n",
      "epoch 32, loss 0.14906316995620728\n",
      "epoch 33, loss 0.14739862084388733\n",
      "epoch 34, loss 0.1457527130842209\n",
      "epoch 35, loss 0.14412495493888855\n",
      "epoch 36, loss 0.1425156444311142\n",
      "epoch 37, loss 0.14092418551445007\n",
      "epoch 38, loss 0.13935039937496185\n",
      "epoch 39, loss 0.1377943605184555\n",
      "epoch 40, loss 0.13625568151474\n",
      "epoch 41, loss 0.1347341537475586\n",
      "epoch 42, loss 0.13322965800762177\n",
      "epoch 43, loss 0.13174182176589966\n",
      "epoch 44, loss 0.13027068972587585\n",
      "epoch 45, loss 0.12881597876548767\n",
      "epoch 46, loss 0.127377450466156\n",
      "epoch 47, loss 0.12595508992671967\n",
      "epoch 48, loss 0.12454855442047119\n",
      "epoch 49, loss 0.12315778434276581\n",
      "epoch 50, loss 0.12178239971399307\n",
      "epoch 51, loss 0.1204226091504097\n",
      "epoch 52, loss 0.11907779425382614\n",
      "epoch 53, loss 0.11774816364049911\n",
      "epoch 54, loss 0.11643317341804504\n",
      "epoch 55, loss 0.11513304710388184\n",
      "epoch 56, loss 0.11384738236665726\n",
      "epoch 57, loss 0.11257601529359818\n",
      "epoch 58, loss 0.1113189160823822\n",
      "epoch 59, loss 0.11007583886384964\n",
      "epoch 60, loss 0.10884667187929153\n",
      "epoch 61, loss 0.10763119906187057\n",
      "epoch 62, loss 0.10642919689416885\n",
      "epoch 63, loss 0.10524075478315353\n",
      "epoch 64, loss 0.10406547039747238\n",
      "epoch 65, loss 0.10290359705686569\n",
      "epoch 66, loss 0.10175442695617676\n",
      "epoch 67, loss 0.10061813145875931\n",
      "epoch 68, loss 0.09949454665184021\n",
      "epoch 69, loss 0.09838345646858215\n",
      "epoch 70, loss 0.09728486835956573\n",
      "epoch 71, loss 0.0961984395980835\n",
      "epoch 72, loss 0.0951242670416832\n",
      "epoch 73, loss 0.09406200051307678\n",
      "epoch 74, loss 0.09301169216632843\n",
      "epoch 75, loss 0.0919729471206665\n",
      "epoch 76, loss 0.0909460037946701\n",
      "epoch 77, loss 0.08993032574653625\n",
      "epoch 78, loss 0.08892622590065002\n",
      "epoch 79, loss 0.08793307840824127\n",
      "epoch 80, loss 0.08695120364427567\n",
      "epoch 81, loss 0.08598017692565918\n",
      "epoch 82, loss 0.08502000570297241\n",
      "epoch 83, loss 0.08407063037157059\n",
      "epoch 84, loss 0.08313188701868057\n",
      "epoch 85, loss 0.08220347762107849\n",
      "epoch 86, loss 0.0812854990363121\n",
      "epoch 87, loss 0.08037789911031723\n",
      "epoch 88, loss 0.07948028296232224\n",
      "epoch 89, loss 0.07859276980161667\n",
      "epoch 90, loss 0.0777151957154274\n",
      "epoch 91, loss 0.07684731483459473\n",
      "epoch 92, loss 0.07598920166492462\n",
      "epoch 93, loss 0.07514066249132156\n",
      "epoch 94, loss 0.07430146634578705\n",
      "epoch 95, loss 0.07347183674573898\n",
      "epoch 96, loss 0.07265137135982513\n",
      "epoch 97, loss 0.07184009253978729\n",
      "epoch 98, loss 0.07103782147169113\n",
      "epoch 99, loss 0.07024463266134262\n",
      "epoch 100, loss 0.0694601908326149\n"
     ]
    }
   ],
   "source": [
    "import torch\n",
    "import torch.nn as nn\n",
    "from torch.autograd import Variable\n",
    "\n",
    "class LinearRegressionModel(nn.Module):\n",
    "    def __init__(self, input_size, output_size):\n",
    "        super(LinearRegressionModel, self).__init__()\n",
    "        self.linear = nn.Linear(input_size, output_size)\n",
    "    \n",
    "    def forward(self, x):\n",
    "        out = self.linear(x)\n",
    "        return out\n",
    "    \n",
    "    \n",
    "input_dim = 1\n",
    "output_dim = 1\n",
    "\n",
    "model = LinearRegressionModel(input_dim, output_dim)\n",
    "\n",
    "## USE GPU for model\n",
    "if torch.cuda.is_available():\n",
    "    model.cuda()\n",
    "\n",
    "criterion = nn.MSELoss()\n",
    "\n",
    "learning_rate = 0.01\n",
    "optimizer = torch.optim.SGD(model.parameters(), lr=learning_rate)\n",
    "\n",
    "epochs = 100\n",
    "for epoch in range(epochs):\n",
    "    epoch += 1\n",
    "    # Convert numpy array to torch variables for gradient collection\n",
    "    if torch.cuda.is_available():\n",
    "        inputs = Variable(torch.from_numpy(x_train).cuda())\n",
    "        labels = Variable(torch.from_numpy(y_train).cuda())\n",
    "    else:\n",
    "        inputs = Variable(torch.from_numpy(x_train))\n",
    "        labels = Variable(torch.from_numpy(y_train))\n",
    "\n",
    "    \n",
    "    # Clear gradients w.r.t parameters (collected in previous epoch)\n",
    "    optimizer.zero_grad()\n",
    "    \n",
    "    # Forward to get output, calling the model directly runs the forward function\n",
    "    outputs = model(inputs)\n",
    "    \n",
    "    # Calculate loss\n",
    "    loss = criterion(outputs, labels)\n",
    "    \n",
    "    # Getting Gradients w.r.t. parameters\n",
    "    loss.backward()\n",
    "    \n",
    "    # Updating Parameters\n",
    "    optimizer.step()\n",
    "    \n",
    "    print('epoch {}, loss {}'.format(epoch, loss.data[0]))"
   ]
  },
  {
   "cell_type": "markdown",
   "metadata": {},
   "source": [
    "---"
   ]
  },
  {
   "cell_type": "code",
   "execution_count": null,
   "metadata": {},
   "outputs": [],
   "source": []
  }
 ],
 "metadata": {
  "kernelspec": {
   "display_name": "Environment (conda_pytorch_p36)",
   "language": "python",
   "name": "conda_pytorch_p36"
  },
  "language_info": {
   "codemirror_mode": {
    "name": "ipython",
    "version": 3
   },
   "file_extension": ".py",
   "mimetype": "text/x-python",
   "name": "python",
   "nbconvert_exporter": "python",
   "pygments_lexer": "ipython3",
   "version": "3.6.4"
  }
 },
 "nbformat": 4,
 "nbformat_minor": 2
}
